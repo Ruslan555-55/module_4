{
 "cells": [
  {
   "cell_type": "markdown",
   "id": "a363f56f",
   "metadata": {},
   "source": [
    "# Проект \"Авиарейсы без потерь\""
   ]
  },
  {
   "cell_type": "markdown",
   "id": "8f0224e6",
   "metadata": {},
   "source": [
    "### для анализа рейсов из города Анапа загрузим наш датасет"
   ]
  },
  {
   "cell_type": "code",
   "execution_count": 37,
   "id": "308c93ec",
   "metadata": {},
   "outputs": [
    {
     "data": {
      "text/html": [
       "<div>\n",
       "<style scoped>\n",
       "    .dataframe tbody tr th:only-of-type {\n",
       "        vertical-align: middle;\n",
       "    }\n",
       "\n",
       "    .dataframe tbody tr th {\n",
       "        vertical-align: top;\n",
       "    }\n",
       "\n",
       "    .dataframe thead th {\n",
       "        text-align: right;\n",
       "    }\n",
       "</style>\n",
       "<table border=\"1\" class=\"dataframe\">\n",
       "  <thead>\n",
       "    <tr style=\"text-align: right;\">\n",
       "      <th></th>\n",
       "      <th>flight_id</th>\n",
       "      <th>flight_no</th>\n",
       "      <th>model</th>\n",
       "      <th>departure_airport</th>\n",
       "      <th>arrival_airport</th>\n",
       "      <th>actual_departure</th>\n",
       "      <th>count_ticket</th>\n",
       "      <th>count_seat_no</th>\n",
       "      <th>time_fl</th>\n",
       "      <th>total_amount</th>\n",
       "      <th>fuel_consumption</th>\n",
       "      <th>total_fuel_consumption</th>\n",
       "      <th>fuel_amount</th>\n",
       "      <th>profit</th>\n",
       "    </tr>\n",
       "  </thead>\n",
       "  <tbody>\n",
       "    <tr>\n",
       "      <th>0</th>\n",
       "      <td>136698</td>\n",
       "      <td>PG0480</td>\n",
       "      <td>Sukhoi Superjet-100</td>\n",
       "      <td>AAQ</td>\n",
       "      <td>EGO</td>\n",
       "      <td>2016-12-01 09:30:00</td>\n",
       "      <td>94</td>\n",
       "      <td>94</td>\n",
       "      <td>0.816667</td>\n",
       "      <td>746400.0</td>\n",
       "      <td>1700</td>\n",
       "      <td>1388.333333</td>\n",
       "      <td>53960.35</td>\n",
       "      <td>692439.65</td>\n",
       "    </tr>\n",
       "    <tr>\n",
       "      <th>1</th>\n",
       "      <td>136774</td>\n",
       "      <td>PG0480</td>\n",
       "      <td>Sukhoi Superjet-100</td>\n",
       "      <td>AAQ</td>\n",
       "      <td>EGO</td>\n",
       "      <td>2016-12-02 09:27:00</td>\n",
       "      <td>93</td>\n",
       "      <td>93</td>\n",
       "      <td>0.833333</td>\n",
       "      <td>740100.0</td>\n",
       "      <td>1700</td>\n",
       "      <td>1416.666667</td>\n",
       "      <td>55061.58</td>\n",
       "      <td>685038.42</td>\n",
       "    </tr>\n",
       "    <tr>\n",
       "      <th>2</th>\n",
       "      <td>136873</td>\n",
       "      <td>PG0480</td>\n",
       "      <td>Sukhoi Superjet-100</td>\n",
       "      <td>AAQ</td>\n",
       "      <td>EGO</td>\n",
       "      <td>2016-12-03 09:26:00</td>\n",
       "      <td>96</td>\n",
       "      <td>96</td>\n",
       "      <td>0.850000</td>\n",
       "      <td>759000.0</td>\n",
       "      <td>1700</td>\n",
       "      <td>1445.000000</td>\n",
       "      <td>56162.81</td>\n",
       "      <td>702837.19</td>\n",
       "    </tr>\n",
       "    <tr>\n",
       "      <th>3</th>\n",
       "      <td>136843</td>\n",
       "      <td>PG0480</td>\n",
       "      <td>Sukhoi Superjet-100</td>\n",
       "      <td>AAQ</td>\n",
       "      <td>EGO</td>\n",
       "      <td>2016-12-04 09:30:00</td>\n",
       "      <td>78</td>\n",
       "      <td>78</td>\n",
       "      <td>0.833333</td>\n",
       "      <td>632400.0</td>\n",
       "      <td>1700</td>\n",
       "      <td>1416.666667</td>\n",
       "      <td>55061.58</td>\n",
       "      <td>577338.42</td>\n",
       "    </tr>\n",
       "    <tr>\n",
       "      <th>4</th>\n",
       "      <td>136943</td>\n",
       "      <td>PG0480</td>\n",
       "      <td>Sukhoi Superjet-100</td>\n",
       "      <td>AAQ</td>\n",
       "      <td>EGO</td>\n",
       "      <td>2016-12-05 09:28:00</td>\n",
       "      <td>94</td>\n",
       "      <td>94</td>\n",
       "      <td>0.833333</td>\n",
       "      <td>733800.0</td>\n",
       "      <td>1700</td>\n",
       "      <td>1416.666667</td>\n",
       "      <td>55061.58</td>\n",
       "      <td>678738.42</td>\n",
       "    </tr>\n",
       "    <tr>\n",
       "      <th>...</th>\n",
       "      <td>...</td>\n",
       "      <td>...</td>\n",
       "      <td>...</td>\n",
       "      <td>...</td>\n",
       "      <td>...</td>\n",
       "      <td>...</td>\n",
       "      <td>...</td>\n",
       "      <td>...</td>\n",
       "      <td>...</td>\n",
       "      <td>...</td>\n",
       "      <td>...</td>\n",
       "      <td>...</td>\n",
       "      <td>...</td>\n",
       "      <td>...</td>\n",
       "    </tr>\n",
       "    <tr>\n",
       "      <th>175</th>\n",
       "      <td>136120</td>\n",
       "      <td>PG0252</td>\n",
       "      <td>Boeing 737-300</td>\n",
       "      <td>AAQ</td>\n",
       "      <td>SVO</td>\n",
       "      <td>2017-02-24 10:07:00</td>\n",
       "      <td>109</td>\n",
       "      <td>109</td>\n",
       "      <td>1.650000</td>\n",
       "      <td>1605400.0</td>\n",
       "      <td>2400</td>\n",
       "      <td>3960.000000</td>\n",
       "      <td>156629.88</td>\n",
       "      <td>1448770.12</td>\n",
       "    </tr>\n",
       "    <tr>\n",
       "      <th>176</th>\n",
       "      <td>136439</td>\n",
       "      <td>PG0252</td>\n",
       "      <td>Boeing 737-300</td>\n",
       "      <td>AAQ</td>\n",
       "      <td>SVO</td>\n",
       "      <td>2017-02-25 10:08:00</td>\n",
       "      <td>117</td>\n",
       "      <td>117</td>\n",
       "      <td>1.666667</td>\n",
       "      <td>1701800.0</td>\n",
       "      <td>2400</td>\n",
       "      <td>4000.000000</td>\n",
       "      <td>158212.00</td>\n",
       "      <td>1543588.00</td>\n",
       "    </tr>\n",
       "    <tr>\n",
       "      <th>177</th>\n",
       "      <td>136351</td>\n",
       "      <td>PG0252</td>\n",
       "      <td>Boeing 737-300</td>\n",
       "      <td>AAQ</td>\n",
       "      <td>SVO</td>\n",
       "      <td>2017-02-26 10:13:00</td>\n",
       "      <td>105</td>\n",
       "      <td>105</td>\n",
       "      <td>1.666667</td>\n",
       "      <td>1555400.0</td>\n",
       "      <td>2400</td>\n",
       "      <td>4000.000000</td>\n",
       "      <td>158212.00</td>\n",
       "      <td>1397188.00</td>\n",
       "    </tr>\n",
       "    <tr>\n",
       "      <th>178</th>\n",
       "      <td>136266</td>\n",
       "      <td>PG0252</td>\n",
       "      <td>Boeing 737-300</td>\n",
       "      <td>AAQ</td>\n",
       "      <td>SVO</td>\n",
       "      <td>2017-02-27 10:08:00</td>\n",
       "      <td>108</td>\n",
       "      <td>108</td>\n",
       "      <td>1.666667</td>\n",
       "      <td>1566400.0</td>\n",
       "      <td>2400</td>\n",
       "      <td>4000.000000</td>\n",
       "      <td>158212.00</td>\n",
       "      <td>1408188.00</td>\n",
       "    </tr>\n",
       "    <tr>\n",
       "      <th>179</th>\n",
       "      <td>136215</td>\n",
       "      <td>PG0252</td>\n",
       "      <td>Boeing 737-300</td>\n",
       "      <td>AAQ</td>\n",
       "      <td>SVO</td>\n",
       "      <td>2017-02-28 10:09:00</td>\n",
       "      <td>114</td>\n",
       "      <td>114</td>\n",
       "      <td>1.666667</td>\n",
       "      <td>1664000.0</td>\n",
       "      <td>2400</td>\n",
       "      <td>4000.000000</td>\n",
       "      <td>158212.00</td>\n",
       "      <td>1505788.00</td>\n",
       "    </tr>\n",
       "  </tbody>\n",
       "</table>\n",
       "<p>180 rows × 14 columns</p>\n",
       "</div>"
      ],
      "text/plain": [
       "     flight_id flight_no                model departure_airport  \\\n",
       "0       136698    PG0480  Sukhoi Superjet-100               AAQ   \n",
       "1       136774    PG0480  Sukhoi Superjet-100               AAQ   \n",
       "2       136873    PG0480  Sukhoi Superjet-100               AAQ   \n",
       "3       136843    PG0480  Sukhoi Superjet-100               AAQ   \n",
       "4       136943    PG0480  Sukhoi Superjet-100               AAQ   \n",
       "..         ...       ...                  ...               ...   \n",
       "175     136120    PG0252       Boeing 737-300               AAQ   \n",
       "176     136439    PG0252       Boeing 737-300               AAQ   \n",
       "177     136351    PG0252       Boeing 737-300               AAQ   \n",
       "178     136266    PG0252       Boeing 737-300               AAQ   \n",
       "179     136215    PG0252       Boeing 737-300               AAQ   \n",
       "\n",
       "    arrival_airport     actual_departure  count_ticket  count_seat_no  \\\n",
       "0               EGO  2016-12-01 09:30:00            94             94   \n",
       "1               EGO  2016-12-02 09:27:00            93             93   \n",
       "2               EGO  2016-12-03 09:26:00            96             96   \n",
       "3               EGO  2016-12-04 09:30:00            78             78   \n",
       "4               EGO  2016-12-05 09:28:00            94             94   \n",
       "..              ...                  ...           ...            ...   \n",
       "175             SVO  2017-02-24 10:07:00           109            109   \n",
       "176             SVO  2017-02-25 10:08:00           117            117   \n",
       "177             SVO  2017-02-26 10:13:00           105            105   \n",
       "178             SVO  2017-02-27 10:08:00           108            108   \n",
       "179             SVO  2017-02-28 10:09:00           114            114   \n",
       "\n",
       "      time_fl  total_amount  fuel_consumption  total_fuel_consumption  \\\n",
       "0    0.816667      746400.0              1700             1388.333333   \n",
       "1    0.833333      740100.0              1700             1416.666667   \n",
       "2    0.850000      759000.0              1700             1445.000000   \n",
       "3    0.833333      632400.0              1700             1416.666667   \n",
       "4    0.833333      733800.0              1700             1416.666667   \n",
       "..        ...           ...               ...                     ...   \n",
       "175  1.650000     1605400.0              2400             3960.000000   \n",
       "176  1.666667     1701800.0              2400             4000.000000   \n",
       "177  1.666667     1555400.0              2400             4000.000000   \n",
       "178  1.666667     1566400.0              2400             4000.000000   \n",
       "179  1.666667     1664000.0              2400             4000.000000   \n",
       "\n",
       "     fuel_amount      profit  \n",
       "0       53960.35   692439.65  \n",
       "1       55061.58   685038.42  \n",
       "2       56162.81   702837.19  \n",
       "3       55061.58   577338.42  \n",
       "4       55061.58   678738.42  \n",
       "..           ...         ...  \n",
       "175    156629.88  1448770.12  \n",
       "176    158212.00  1543588.00  \n",
       "177    158212.00  1397188.00  \n",
       "178    158212.00  1408188.00  \n",
       "179    158212.00  1505788.00  \n",
       "\n",
       "[180 rows x 14 columns]"
      ]
     },
     "metadata": {},
     "output_type": "display_data"
    }
   ],
   "source": [
    "import pandas as pd\n",
    "import matplotlib.pyplot as plt\n",
    "import seaborn as sns\n",
    "%matplotlib inline\n",
    "import warnings; warnings.simplefilter('ignore')\n",
    "\n",
    "df = pd.read_csv('0_project_4.csv')\n",
    "df.drop('Unnamed: 0', axis=1, inplace=True)\n",
    "\n",
    "\n",
    "display(df)"
   ]
  },
  {
   "cell_type": "code",
   "execution_count": 40,
   "id": "f26910c9",
   "metadata": {},
   "outputs": [],
   "source": [
    "# Назначение колонок:\n",
    "#    flight_id    -- идентификатор рейса,\n",
    "#    flight_no    -- номер рейса,\n",
    "#    model        -- модель самолета,\n",
    "#    departure_airport     -- аэропорт вылета,\n",
    "#    arrival_airport       -- аэропорт прилета,\n",
    "#    actual_departure      -- фактическое время вылета,\n",
    "#    count_ticket          -- количество билетов,\n",
    "#    count_seat_no         -- количество занятых мест,\n",
    "#    time_fl               -- время полета в часах,\n",
    "#    total_amount          -- сумма вырученная от продажи билетов,\n",
    "#    fuel_consumption      -- расход топлива для данного типа самолета в кг/час,\n",
    "#    total_fuel_consumption -- потраченное топливо при перелете,\n",
    "#    fuel_amount            -- стоимость в рублях затраченного топлива в рейсе,\n",
    "#    profit                 -- Разница в рублях между суммой вырученной от продажи билетов и стоимости затраченного топлива\n",
    "    \n",
    "    "
   ]
  },
  {
   "cell_type": "markdown",
   "id": "6681ea6d",
   "metadata": {},
   "source": [
    "Проведем корреляционный анализ авиарейсов для определения наиболее связанных между собой факторов"
   ]
  },
  {
   "cell_type": "code",
   "execution_count": 38,
   "id": "9f5f016a",
   "metadata": {},
   "outputs": [],
   "source": [
    "correlation = df.corr()"
   ]
  },
  {
   "cell_type": "code",
   "execution_count": 39,
   "id": "2ba1d1dc",
   "metadata": {},
   "outputs": [
    {
     "data": {
      "text/plain": [
       "<AxesSubplot:>"
      ]
     },
     "execution_count": 39,
     "metadata": {},
     "output_type": "execute_result"
    },
    {
     "data": {
      "image/png": "[encoded data removed]",
      "text/plain": [
       "<Figure size 432x288 with 2 Axes>"
      ]
     },
     "metadata": {
      "needs_background": "light"
     },
     "output_type": "display_data"
    }
   ],
   "source": [
    "sns.heatmap(correlation, annot = True, cmap='coolwarm')"
   ]
  },
  {
   "cell_type": "markdown",
   "id": "3304fce5",
   "metadata": {},
   "source": [
    "Из таблицы мы можем увидеть что прибыльность полета \"PROFIT\" зависит от модели самолета (расход топлива для данного самолета),\n",
    "расхода топлива на рейс, сильно зависит от суммы за продажи билетов на рейс, количества проданных билетов и времени полета.\n"
   ]
  },
  {
   "cell_type": "markdown",
   "id": "008dfdab",
   "metadata": {},
   "source": [
    "У нас самолеты двух типов Sukhoi Superjet-100 летающий в Белгород\n",
    "и Boeing 737-300 летающий в Москву"
   ]
  },
  {
   "cell_type": "markdown",
   "id": "8cbe0d0e",
   "metadata": {},
   "source": [
    "Посмотрим по графику соотношение рейсов этих самолетов"
   ]
  },
  {
   "cell_type": "code",
   "execution_count": 25,
   "id": "cbcd0d64",
   "metadata": {},
   "outputs": [
    {
     "data": {
      "text/plain": [
       "<AxesSubplot:title={'center':'Количество рейсов за зиму'}>"
      ]
     },
     "execution_count": 25,
     "metadata": {},
     "output_type": "execute_result"
    },
    {
     "data": {
      "image/png": "[encoded data removed]",
      "text/plain": [
       "<Figure size 432x288 with 1 Axes>"
      ]
     },
     "metadata": {
      "needs_background": "light"
     },
     "output_type": "display_data"
    }
   ],
   "source": [
    "df['flight_no'].value_counts().plot(kind = 'bar', \n",
    "                              grid = True, \n",
    "                              colormap = 'coolwarm', \n",
    "                              title = 'Количество рейсов за зиму')"
   ]
  },
  {
   "cell_type": "markdown",
   "id": "f0df9e5f",
   "metadata": {},
   "source": [
    "Видно что соотношение рейсов одинаковое, они совершили практически одинаковое количество рейсов за зиму 2016-2017гг\n",
    "Посмотрим как распределяется прибыль по количеству проданных билетов"
   ]
  },
  {
   "cell_type": "code",
   "execution_count": 35,
   "id": "0d10a064",
   "metadata": {},
   "outputs": [
    {
     "data": {
      "text/plain": [
       "<AxesSubplot:title={'center':'Общая сумма прибыли'}, xlabel='count_ticket', ylabel='profit'>"
      ]
     },
     "execution_count": 35,
     "metadata": {},
     "output_type": "execute_result"
    },
    {
     "data": {
      "image/png": "[encoded data removed]",
      "text/plain": [
       "<Figure size 432x288 with 1 Axes>"
      ]
     },
     "metadata": {
      "needs_background": "light"
     },
     "output_type": "display_data"
    }
   ],
   "source": [
    "df.plot(x = 'count_ticket', \n",
    "        y = 'profit', \n",
    "        kind = 'scatter', \n",
    "        grid = True, \n",
    "        title = 'Общая сумма прибыли')"
   ]
  },
  {
   "cell_type": "markdown",
   "id": "5e411988",
   "metadata": {},
   "source": [
    "Из графика видно что самолеты летают практически полные - Sukhoi Superjet-100 - 103 места и  на две трети Boeing 737-300 - 149 мест,\n",
    "не проданные билеты относятся скорее всего к бизнес классу.\n",
    "К концу зимы идет плавное нарастание числа пассажиров и как следствие прибыли"
   ]
  },
  {
   "cell_type": "markdown",
   "id": "17d4afad",
   "metadata": {},
   "source": [
    "#### Вывод:\n",
    "\n",
    "Рейсы подобраны оптимально, согласно спроса на перелеты в данное время года, а так же тип самолета в соответствии с дальностью полета и количеством пассажиров, так как в Москву пассажиров больше чем в Белгород.\n",
    "Для своего класса и расстоянию перелета типы самолетов соответствуют выбранным маршрутам.\n",
    "Потери небольшие в прибыли отмечаются только в начале зимы.\n",
    "#### Убыточных рейсов на данных маршрутах не наблюдается, небольшое уменьшение прибыли зимой компенсируется прибылью в остальное время года.\n",
    "Тот факт что рейс PG0252  в Москву заполнен в начале зимы чуть больше половины и до конца зимы потихоньку набирает количество\n",
    "пассажиров обусловлен сезонностью наплыва отдыхающих - меньше зимой и больше ближе к лету.\n",
    "Судя по графику -чем больше улетающих тем больше прилетающих.\n"
   ]
  },
  {
   "cell_type": "code",
   "execution_count": null,
   "id": "4acf4510",
   "metadata": {},
   "outputs": [],
   "source": []
  }
 ],
 "metadata": {
  "kernelspec": {
   "display_name": "Python 3",
   "language": "python",
   "name": "python3"
  },
  "language_info": {
   "codemirror_mode": {
    "name": "ipython",
    "version": 3
   },
   "file_extension": ".py",
   "mimetype": "text/x-python",
   "name": "python",
   "nbconvert_exporter": "python",
   "pygments_lexer": "ipython3",
   "version": "3.8.8"
  }
 },
 "nbformat": 4,
 "nbformat_minor": 5
}
